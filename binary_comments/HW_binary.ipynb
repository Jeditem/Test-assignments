{
 "cells": [
  {
   "cell_type": "markdown",
   "metadata": {},
   "source": [
    "# Условие задания"
   ]
  },
  {
   "cell_type": "markdown",
   "metadata": {
    "ExecuteTime": {
     "end_time": "2020-08-21T11:59:49.167885Z",
     "start_time": "2020-08-21T11:59:49.147383Z"
    }
   },
   "source": [
    "Задача:\n",
    "Построить две модели бинарной классификации текстов(комментарии на английском языке разделить на позитивные и негативные).\n",
    "\n",
    "Исходные данные:\n",
    "3 датасета — с комментариями, размеченные на позитивные -1 и негативные — 0.\n",
    "Список датасетов: amazon_cells_labelled.txt, imdb_labelled.txt, yelp_labelled.txt.\n",
    "\n",
    "1. Провести подготовку датасетов к классификации:\n",
    "\n",
    "•\tобъединить датасеты в одну выборку\n",
    "\n",
    "•\tпровести нормализацию(удаление знаков препинания, удаление стоп слов, приведение слов к начальной форме(стемминг))\n",
    "\n",
    "•\tразделить выборку на train и test подвыборки\n",
    "\n",
    "•\tпривести подвыборки к формату TfiDF, сделать отсечение высокочастотных и низкочастотных слов\n",
    "\n",
    "2. Построение моделей:\n",
    "\n",
    "•\t1-ая модель на randomforest классификаторе, 2-ая модель на KNeighbors(knn)\n",
    "\n",
    "•\tДля  randomforest настроить два гиперпараметра: количество деревьев, максимальная глубина дерева\n",
    "\n",
    "•\tДля knn настроить гиперпараметр  количество соседей\n",
    "\n",
    "•\tОбучить модели\n",
    "\n",
    "•\tПосчитать качество моделей на test подвыборке — выбрать показательную метрику для этой задачи\n",
    "\n",
    "•\tСравнить результаты классфикации моделей, сделать выводы\n",
    " \n",
    "\n",
    "Дополнительно:\n",
    "\n",
    "•\tЯзык python3+\n",
    "\n",
    "•\tКод предоставить в jupyter notebook \n",
    "\n",
    "•\tМожно использовать opensource библиотеки(scikit-learn, nltk, pandas, …)  \n",
    "\n",
    "•\tПривествуется использование pipeline\n",
    "\n",
    "•\tВыводы поместить в отдельныю ячейку  jupyter\n",
    "\n",
    "•\tДополнительные гиперпарамтры в классификаторах можно оставить по умолчанию\n",
    "\n",
    "•\tЕсли в датасетах будут найдены «грязные» данные - их можно удалить\n"
   ]
  },
  {
   "cell_type": "markdown",
   "metadata": {},
   "source": [
    "# Подготовка данных"
   ]
  },
  {
   "cell_type": "code",
   "execution_count": 1,
   "metadata": {
    "ExecuteTime": {
     "end_time": "2020-08-21T14:20:34.314283Z",
     "start_time": "2020-08-21T14:20:33.197641Z"
    }
   },
   "outputs": [],
   "source": [
    "import numpy as np\n",
    "import pandas as pd\n",
    "import matplotlib.pyplot as plt\n",
    "import seaborn as sns\n",
    "from sklearn.model_selection import train_test_split\n",
    "\n",
    "from os import listdir, path"
   ]
  },
  {
   "cell_type": "code",
   "execution_count": 75,
   "metadata": {
    "ExecuteTime": {
     "end_time": "2020-08-21T15:02:31.700950Z",
     "start_time": "2020-08-21T15:02:31.696450Z"
    }
   },
   "outputs": [],
   "source": [
    "# Настройка параметров графиков\n",
    "params = {'figure.figsize': (10, 6),\n",
    "          'axes.labelsize': 16,\n",
    "          'axes.titlesize': 26}\n",
    "plt.rcParams.update(params)\n",
    "plt.style.use('seaborn-whitegrid')\n",
    "sns.set_style(\"white\")\n",
    "# %matplotlib inline"
   ]
  },
  {
   "cell_type": "markdown",
   "metadata": {},
   "source": [
    "Будем объединять датасеты сразу при чтении."
   ]
  },
  {
   "cell_type": "code",
   "execution_count": 3,
   "metadata": {
    "ExecuteTime": {
     "end_time": "2020-08-21T14:20:36.092009Z",
     "start_time": "2020-08-21T14:20:36.057004Z"
    }
   },
   "outputs": [],
   "source": [
    "datasets_folder = r'datasets'\n",
    "data = []\n",
    "for file in listdir(datasets_folder):\n",
    "    with open(path.join(datasets_folder, file), 'r') as f:\n",
    "        data.extend(f.readlines())"
   ]
  },
  {
   "cell_type": "markdown",
   "metadata": {
    "ExecuteTime": {
     "end_time": "2020-08-21T12:10:14.980854Z",
     "start_time": "2020-08-21T12:10:14.974353Z"
    }
   },
   "source": [
    "Далее нужно разделить каждую запись на ее текст и оценку. По дороге приведем все к нижнему регистру."
   ]
  },
  {
   "cell_type": "code",
   "execution_count": 4,
   "metadata": {
    "ExecuteTime": {
     "end_time": "2020-08-21T14:20:37.659708Z",
     "start_time": "2020-08-21T14:20:37.648706Z"
    }
   },
   "outputs": [],
   "source": [
    "data = [line.rstrip('\\n').lower().split('\\t') for line in data]"
   ]
  },
  {
   "cell_type": "markdown",
   "metadata": {},
   "source": [
    "Теперь нужно собрать из этого датафрейм с двумя колонками - предложение, и класс"
   ]
  },
  {
   "cell_type": "code",
   "execution_count": 5,
   "metadata": {
    "ExecuteTime": {
     "end_time": "2020-08-21T14:20:38.106264Z",
     "start_time": "2020-08-21T14:20:38.089762Z"
    }
   },
   "outputs": [
    {
     "data": {
      "text/html": [
       "<div>\n",
       "<style scoped>\n",
       "    .dataframe tbody tr th:only-of-type {\n",
       "        vertical-align: middle;\n",
       "    }\n",
       "\n",
       "    .dataframe tbody tr th {\n",
       "        vertical-align: top;\n",
       "    }\n",
       "\n",
       "    .dataframe thead th {\n",
       "        text-align: right;\n",
       "    }\n",
       "</style>\n",
       "<table border=\"1\" class=\"dataframe\">\n",
       "  <thead>\n",
       "    <tr style=\"text-align: right;\">\n",
       "      <th></th>\n",
       "      <th>Text</th>\n",
       "      <th>Class</th>\n",
       "    </tr>\n",
       "  </thead>\n",
       "  <tbody>\n",
       "    <tr>\n",
       "      <th>0</th>\n",
       "      <td>so there is no way for me to plug it in here i...</td>\n",
       "      <td>0</td>\n",
       "    </tr>\n",
       "    <tr>\n",
       "      <th>1</th>\n",
       "      <td>good case, excellent value.</td>\n",
       "      <td>1</td>\n",
       "    </tr>\n",
       "    <tr>\n",
       "      <th>2</th>\n",
       "      <td>great for the jawbone.</td>\n",
       "      <td>1</td>\n",
       "    </tr>\n",
       "    <tr>\n",
       "      <th>3</th>\n",
       "      <td>tied to charger for conversations lasting more...</td>\n",
       "      <td>0</td>\n",
       "    </tr>\n",
       "    <tr>\n",
       "      <th>4</th>\n",
       "      <td>the mic is great.</td>\n",
       "      <td>1</td>\n",
       "    </tr>\n",
       "  </tbody>\n",
       "</table>\n",
       "</div>"
      ],
      "text/plain": [
       "                                                Text Class\n",
       "0  so there is no way for me to plug it in here i...     0\n",
       "1                        good case, excellent value.     1\n",
       "2                             great for the jawbone.     1\n",
       "3  tied to charger for conversations lasting more...     0\n",
       "4                                  the mic is great.     1"
      ]
     },
     "execution_count": 5,
     "metadata": {},
     "output_type": "execute_result"
    }
   ],
   "source": [
    "comments_df = pd.DataFrame.from_records(data, columns=['Text', 'Class'])\n",
    "comments_df.head()"
   ]
  },
  {
   "cell_type": "markdown",
   "metadata": {},
   "source": [
    "Далее можно поинтересоваться двумя вещами - распределением классов (вдруг они несбалансированны), и посмотреть на распределение комментариев по длине - таким образом можно найти неинформативные, \"грязные\" комментарии."
   ]
  },
  {
   "cell_type": "code",
   "execution_count": 6,
   "metadata": {
    "ExecuteTime": {
     "end_time": "2020-08-21T14:20:38.619329Z",
     "start_time": "2020-08-21T14:20:38.437306Z"
    }
   },
   "outputs": [
    {
     "data": {
      "image/png": "[encoded data removed]",
      "text/plain": [
       "<Figure size 720x432 with 1 Axes>"
      ]
     },
     "metadata": {},
     "output_type": "display_data"
    }
   ],
   "source": [
    "class_counter = comments_df.groupby('Class').count()\n",
    "sns.barplot(class_counter.index, class_counter.Text)\n",
    "plt.title('Распределение классов')\n",
    "plt.show()"
   ]
  },
  {
   "cell_type": "markdown",
   "metadata": {},
   "source": [
    "По классам все поровну. Далее мы из каждой строчки удалим все знаки препинания, и посчитаем количество символов в ней. Затем посмотрим, есть ли среди найденных строчек с, допустим, числом сиволов < 10 те, которые можно выбросить как неинформативные."
   ]
  },
  {
   "cell_type": "code",
   "execution_count": 7,
   "metadata": {
    "ExecuteTime": {
     "end_time": "2020-08-21T14:20:39.214405Z",
     "start_time": "2020-08-21T14:20:38.830856Z"
    }
   },
   "outputs": [
    {
     "data": {
      "image/png": "[encoded data removed]",
      "text/plain": [
       "<Figure size 720x432 with 1 Axes>"
      ]
     },
     "metadata": {},
     "output_type": "display_data"
    }
   ],
   "source": [
    "sent_len = comments_df['Text'].str.replace(r'[^\\w\\s]', '').apply(lambda x: len(x))\n",
    "sns.distplot(sent_len)\n",
    "plt.title('Распределение комментариев по количеству символов')\n",
    "plt.show()"
   ]
  },
  {
   "cell_type": "markdown",
   "metadata": {},
   "source": [
    "Выглядит вполне логично - большинство укладывается в формат твита - 140 символов. Если посмотреть на очень короткие комменты - там тоже ничего страшного - всё вполне информативно. Т.о. на первый взгляд ничего из выборки выкидывать не надо."
   ]
  },
  {
   "cell_type": "code",
   "execution_count": 8,
   "metadata": {
    "ExecuteTime": {
     "end_time": "2020-08-21T14:20:42.884371Z",
     "start_time": "2020-08-21T14:20:42.875370Z"
    }
   },
   "outputs": [
    {
     "data": {
      "text/html": [
       "<div>\n",
       "<style scoped>\n",
       "    .dataframe tbody tr th:only-of-type {\n",
       "        vertical-align: middle;\n",
       "    }\n",
       "\n",
       "    .dataframe tbody tr th {\n",
       "        vertical-align: top;\n",
       "    }\n",
       "\n",
       "    .dataframe thead th {\n",
       "        text-align: right;\n",
       "    }\n",
       "</style>\n",
       "<table border=\"1\" class=\"dataframe\">\n",
       "  <thead>\n",
       "    <tr style=\"text-align: right;\">\n",
       "      <th></th>\n",
       "      <th>Text</th>\n",
       "      <th>Class</th>\n",
       "    </tr>\n",
       "  </thead>\n",
       "  <tbody>\n",
       "    <tr>\n",
       "      <th>827</th>\n",
       "      <td>good case!.</td>\n",
       "      <td>1</td>\n",
       "    </tr>\n",
       "    <tr>\n",
       "      <th>857</th>\n",
       "      <td>(it works!)</td>\n",
       "      <td>1</td>\n",
       "    </tr>\n",
       "    <tr>\n",
       "      <th>877</th>\n",
       "      <td>excellent!.</td>\n",
       "      <td>1</td>\n",
       "    </tr>\n",
       "    <tr>\n",
       "      <th>1125</th>\n",
       "      <td>10/10</td>\n",
       "      <td>1</td>\n",
       "    </tr>\n",
       "    <tr>\n",
       "      <th>1162</th>\n",
       "      <td>awful.</td>\n",
       "      <td>0</td>\n",
       "    </tr>\n",
       "    <tr>\n",
       "      <th>1198</th>\n",
       "      <td>so bad.</td>\n",
       "      <td>0</td>\n",
       "    </tr>\n",
       "    <tr>\n",
       "      <th>1493</th>\n",
       "      <td>see it.</td>\n",
       "      <td>1</td>\n",
       "    </tr>\n",
       "    <tr>\n",
       "      <th>1788</th>\n",
       "      <td>10/10</td>\n",
       "      <td>1</td>\n",
       "    </tr>\n",
       "    <tr>\n",
       "      <th>2165</th>\n",
       "      <td>delicious!!</td>\n",
       "      <td>1</td>\n",
       "    </tr>\n",
       "  </tbody>\n",
       "</table>\n",
       "</div>"
      ],
      "text/plain": [
       "             Text Class\n",
       "827   good case!.     1\n",
       "857   (it works!)     1\n",
       "877   excellent!.     1\n",
       "1125      10/10       1\n",
       "1162     awful.       0\n",
       "1198    so bad.       0\n",
       "1493    see it.       1\n",
       "1788      10/10       1\n",
       "2165  delicious!!     1"
      ]
     },
     "execution_count": 8,
     "metadata": {},
     "output_type": "execute_result"
    }
   ],
   "source": [
    "comments_df.iloc[sent_len[(sent_len.values < 10)].index]"
   ]
  },
  {
   "cell_type": "markdown",
   "metadata": {},
   "source": [
    "Далее разделим подвыборки на трейн и тест"
   ]
  },
  {
   "cell_type": "code",
   "execution_count": 9,
   "metadata": {
    "ExecuteTime": {
     "end_time": "2020-08-21T14:20:45.092652Z",
     "start_time": "2020-08-21T14:20:45.088651Z"
    }
   },
   "outputs": [],
   "source": [
    "# этот сид будем использовать для всех дальнейших вычислений\n",
    "random_seed = 42"
   ]
  },
  {
   "cell_type": "code",
   "execution_count": 10,
   "metadata": {
    "ExecuteTime": {
     "end_time": "2020-08-21T14:20:45.514705Z",
     "start_time": "2020-08-21T14:20:45.510705Z"
    }
   },
   "outputs": [],
   "source": [
    "data_values = comments_df['Text']\n",
    "data_labels = comments_df['Class']"
   ]
  },
  {
   "cell_type": "code",
   "execution_count": 11,
   "metadata": {
    "ExecuteTime": {
     "end_time": "2020-08-21T14:20:45.926257Z",
     "start_time": "2020-08-21T14:20:45.918756Z"
    }
   },
   "outputs": [],
   "source": [
    "train_data, test_data, train_labels, test_labels = train_test_split(data_values,\n",
    "                                                                    data_labels,\n",
    "                                                                    random_state=random_seed,\n",
    "                                                                    test_size=0.3)"
   ]
  },
  {
   "cell_type": "markdown",
   "metadata": {},
   "source": [
    "Следующим пунктом идет нормализация текстов и приведение к формату TF-IDF. Раз разрешается использование pipeline, то почему бы не упростить им себе жизнь."
   ]
  },
  {
   "cell_type": "code",
   "execution_count": 12,
   "metadata": {
    "ExecuteTime": {
     "end_time": "2020-08-21T14:20:47.395444Z",
     "start_time": "2020-08-21T14:20:46.784366Z"
    }
   },
   "outputs": [
    {
     "name": "stderr",
     "output_type": "stream",
     "text": [
      "[nltk_data] Downloading package stopwords to\n",
      "[nltk_data]     C:\\Users\\Jeditem\\AppData\\Roaming\\nltk_data...\n",
      "[nltk_data]   Package stopwords is already up-to-date!\n"
     ]
    }
   ],
   "source": [
    "import nltk\n",
    "nltk.download('stopwords')\n",
    "\n",
    "from sklearn.pipeline import Pipeline\n",
    "from sklearn.pipeline import make_pipeline\n",
    "from sklearn.feature_extraction.text import CountVectorizer\n",
    "from sklearn.feature_extraction.text import TfidfTransformer\n",
    "from nltk.stem.snowball import SnowballStemmer"
   ]
  },
  {
   "cell_type": "markdown",
   "metadata": {},
   "source": [
    "Подготовительная часть пайплайна будет состоять из двух - CountVectorizer со стеммингом, и TfidfTransformer. Для стемминга модифицируем класс CountVectorizer так, чтобы он возвращал слова в начальной форме. Чтобы это все нормально работало в пайплайне, модифицируем метод build_analyzer."
   ]
  },
  {
   "cell_type": "code",
   "execution_count": 13,
   "metadata": {
    "ExecuteTime": {
     "end_time": "2020-08-21T14:20:49.863757Z",
     "start_time": "2020-08-21T14:20:49.858757Z"
    }
   },
   "outputs": [],
   "source": [
    "stemmer = SnowballStemmer(\"english\", ignore_stopwords=True)"
   ]
  },
  {
   "cell_type": "code",
   "execution_count": 14,
   "metadata": {
    "ExecuteTime": {
     "end_time": "2020-08-21T14:20:50.327316Z",
     "start_time": "2020-08-21T14:20:50.323316Z"
    }
   },
   "outputs": [],
   "source": [
    "class StemmedCountVectorizer(CountVectorizer):\n",
    "    def build_analyzer(self):\n",
    "        analyzer = super(StemmedCountVectorizer, self).build_analyzer()\n",
    "        return lambda text: ([stemmer.stem(w) for w in analyzer(text)])"
   ]
  },
  {
   "cell_type": "code",
   "execution_count": 15,
   "metadata": {
    "ExecuteTime": {
     "end_time": "2020-08-21T14:20:50.718366Z",
     "start_time": "2020-08-21T14:20:50.713865Z"
    }
   },
   "outputs": [],
   "source": [
    "# Создаем объект модифицированного CountVectorizer с отсечкой высокочастотных, низкочастотных, и стоп-слов\n",
    "Stemmed_Count_Vect = StemmedCountVectorizer(stop_words='english',\n",
    "                                            max_df=0.9, min_df=3)"
   ]
  },
  {
   "cell_type": "markdown",
   "metadata": {},
   "source": [
    "Теперь можно собрать первую часть пайплайна."
   ]
  },
  {
   "cell_type": "code",
   "execution_count": 16,
   "metadata": {
    "ExecuteTime": {
     "end_time": "2020-08-21T14:20:52.146547Z",
     "start_time": "2020-08-21T14:20:51.922519Z"
    }
   },
   "outputs": [
    {
     "data": {
      "text/plain": [
       "<2100x870 sparse matrix of type '<class 'numpy.float64'>'\n",
       "\twith 8609 stored elements in Compressed Sparse Row format>"
      ]
     },
     "execution_count": 16,
     "metadata": {},
     "output_type": "execute_result"
    }
   ],
   "source": [
    "sentence_pipeline = Pipeline([('vectorizer', Stemmed_Count_Vect),\n",
    "                              ('transformer', TfidfTransformer())])\n",
    "sentence_pipeline.fit_transform(train_data)"
   ]
  },
  {
   "cell_type": "markdown",
   "metadata": {},
   "source": [
    "# Построение моделей"
   ]
  },
  {
   "cell_type": "code",
   "execution_count": 26,
   "metadata": {
    "ExecuteTime": {
     "end_time": "2020-08-21T14:21:27.859082Z",
     "start_time": "2020-08-21T14:21:27.853081Z"
    }
   },
   "outputs": [],
   "source": [
    "from sklearn.metrics import accuracy_score\n",
    "from sklearn.model_selection import cross_val_score\n",
    "from sklearn.model_selection import cross_validate, RandomizedSearchCV, GridSearchCV\n",
    "from sklearn.ensemble import RandomForestClassifier\n",
    "from sklearn.neighbors import KNeighborsClassifier"
   ]
  },
  {
   "cell_type": "markdown",
   "metadata": {},
   "source": [
    "Для обеих наших моделей заведем свои пайплайны."
   ]
  },
  {
   "cell_type": "code",
   "execution_count": 18,
   "metadata": {
    "ExecuteTime": {
     "end_time": "2020-08-21T14:20:54.861892Z",
     "start_time": "2020-08-21T14:20:54.855891Z"
    }
   },
   "outputs": [],
   "source": [
    "forest_pipeline = Pipeline([('sentence',sentence_pipeline),\n",
    "                            ('classifier', RandomForestClassifier(random_state=random_seed))])"
   ]
  },
  {
   "cell_type": "code",
   "execution_count": 19,
   "metadata": {
    "ExecuteTime": {
     "end_time": "2020-08-21T14:20:55.411962Z",
     "start_time": "2020-08-21T14:20:55.406961Z"
    }
   },
   "outputs": [],
   "source": [
    "knn_pipeline = Pipeline([('sentence',sentence_pipeline),\n",
    "                         ('classifier', KNeighborsClassifier())])"
   ]
  },
  {
   "cell_type": "markdown",
   "metadata": {
    "ExecuteTime": {
     "end_time": "2020-08-21T12:26:52.468518Z",
     "start_time": "2020-08-21T12:26:52.267993Z"
    }
   },
   "source": [
    "## Подбор параметров для Random Forest"
   ]
  },
  {
   "cell_type": "markdown",
   "metadata": {
    "ExecuteTime": {
     "end_time": "2020-08-21T14:06:54.928234Z",
     "start_time": "2020-08-21T14:06:54.921733Z"
    }
   },
   "source": [
    "Требуется настроить всего два параметра - настроить два гиперпараметра: количество деревьев, максимальная глубина. Здесь сначала воспользуемся RandomizedSearchCV для быспрой оценки параметров, затем уточним с помощью GridSearchCV."
   ]
  },
  {
   "cell_type": "markdown",
   "metadata": {},
   "source": [
    "Так как никаких требований к метрике не предъявляется, возьмем accuracy - датасет сбалансированный, значит доля правильных ответов будет вполне актуально отражать качество модели."
   ]
  },
  {
   "cell_type": "code",
   "execution_count": 33,
   "metadata": {
    "ExecuteTime": {
     "end_time": "2020-08-21T14:27:18.647627Z",
     "start_time": "2020-08-21T14:27:18.641626Z"
    }
   },
   "outputs": [],
   "source": [
    "forest_params = {'classifier__n_estimators': np.arange(2,201,1),\n",
    "                 'classifier__max_depth': np.arange(1,50,1)}"
   ]
  },
  {
   "cell_type": "code",
   "execution_count": 34,
   "metadata": {
    "ExecuteTime": {
     "end_time": "2020-08-21T14:27:19.035676Z",
     "start_time": "2020-08-21T14:27:19.032676Z"
    }
   },
   "outputs": [],
   "source": [
    "forest_search = RandomizedSearchCV(estimator = forest_pipeline, \n",
    "                                   param_distributions = forest_params,\n",
    "                                   scoring='accuracy',\n",
    "                                   n_jobs=4,\n",
    "                                   cv=5, verbose=1)"
   ]
  },
  {
   "cell_type": "code",
   "execution_count": 35,
   "metadata": {
    "ExecuteTime": {
     "end_time": "2020-08-21T14:27:27.492750Z",
     "start_time": "2020-08-21T14:27:19.518737Z"
    }
   },
   "outputs": [
    {
     "name": "stdout",
     "output_type": "stream",
     "text": [
      "Fitting 5 folds for each of 10 candidates, totalling 50 fits\n"
     ]
    },
    {
     "name": "stderr",
     "output_type": "stream",
     "text": [
      "[Parallel(n_jobs=4)]: Using backend LokyBackend with 4 concurrent workers.\n",
      "[Parallel(n_jobs=4)]: Done  42 tasks      | elapsed:    6.4s\n",
      "[Parallel(n_jobs=4)]: Done  50 out of  50 | elapsed:    7.0s finished\n"
     ]
    },
    {
     "data": {
      "text/plain": [
       "({'classifier__n_estimators': 185, 'classifier__max_depth': 44},\n",
       " 0.7504761904761905)"
      ]
     },
     "execution_count": 35,
     "metadata": {},
     "output_type": "execute_result"
    }
   ],
   "source": [
    "forest_search.fit(train_data, train_labels)\n",
    "forest_search.best_params_, forest_search.best_score_"
   ]
  },
  {
   "cell_type": "code",
   "execution_count": 39,
   "metadata": {
    "ExecuteTime": {
     "end_time": "2020-08-21T14:33:15.786978Z",
     "start_time": "2020-08-21T14:33:15.781477Z"
    }
   },
   "outputs": [],
   "source": [
    "new_forest_params = {'classifier__n_estimators': np.arange(180,201,1),\n",
    "                     'classifier__max_depth': np.arange(35,50,1)}"
   ]
  },
  {
   "cell_type": "code",
   "execution_count": 40,
   "metadata": {
    "ExecuteTime": {
     "end_time": "2020-08-21T14:33:16.210531Z",
     "start_time": "2020-08-21T14:33:16.207031Z"
    }
   },
   "outputs": [],
   "source": [
    "new_forest_search = GridSearchCV(estimator = forest_pipeline, \n",
    "                                 param_grid = new_forest_params,\n",
    "                                 scoring='accuracy',\n",
    "                                 n_jobs=4,\n",
    "                                 cv=5, verbose=1)"
   ]
  },
  {
   "cell_type": "code",
   "execution_count": 41,
   "metadata": {
    "ExecuteTime": {
     "end_time": "2020-08-21T14:40:01.258966Z",
     "start_time": "2020-08-21T14:33:16.618083Z"
    }
   },
   "outputs": [
    {
     "name": "stdout",
     "output_type": "stream",
     "text": [
      "Fitting 5 folds for each of 315 candidates, totalling 1575 fits\n"
     ]
    },
    {
     "name": "stderr",
     "output_type": "stream",
     "text": [
      "[Parallel(n_jobs=4)]: Using backend LokyBackend with 4 concurrent workers.\n",
      "[Parallel(n_jobs=4)]: Done  42 tasks      | elapsed:   12.1s\n",
      "[Parallel(n_jobs=4)]: Done 192 tasks      | elapsed:   48.1s\n",
      "[Parallel(n_jobs=4)]: Done 442 tasks      | elapsed:  1.8min\n",
      "[Parallel(n_jobs=4)]: Done 792 tasks      | elapsed:  3.3min\n",
      "[Parallel(n_jobs=4)]: Done 1242 tasks      | elapsed:  5.2min\n",
      "[Parallel(n_jobs=4)]: Done 1575 out of 1575 | elapsed:  6.7min finished\n"
     ]
    },
    {
     "data": {
      "text/plain": [
       "({'classifier__max_depth': 48, 'classifier__n_estimators': 180},\n",
       " 0.7542857142857142)"
      ]
     },
     "execution_count": 41,
     "metadata": {},
     "output_type": "execute_result"
    }
   ],
   "source": [
    "new_forest_search.fit(train_data, train_labels)\n",
    "new_forest_search.best_params_, new_forest_search.best_score_"
   ]
  },
  {
   "cell_type": "markdown",
   "metadata": {},
   "source": [
    "Прирост точности всего 0,4%, это это мы еще среднеквадратичное отклонение не смотрели. Кстати"
   ]
  },
  {
   "cell_type": "code",
   "execution_count": 53,
   "metadata": {
    "ExecuteTime": {
     "end_time": "2020-08-21T14:47:35.208610Z",
     "start_time": "2020-08-21T14:47:35.204610Z"
    }
   },
   "outputs": [
    {
     "name": "stdout",
     "output_type": "stream",
     "text": [
      "New forest params std: 0.018806734484093098\n",
      "First forest params std: 0.01926658002881204\n"
     ]
    }
   ],
   "source": [
    "print(f'New forest params std: {new_forest_search.cv_results_[\"std_test_score\"].mean()}')\n",
    "print(f'First forest params std: {forest_search.cv_results_[\"std_test_score\"].mean()}')"
   ]
  },
  {
   "cell_type": "markdown",
   "metadata": {},
   "source": [
    "Новое отклонение ненамного лучше первого, да и в принципе, улучшение оценки на кросс-валидации на 0,4% при STD=0.2% - сомнительное улучшение, так что на этом подбор параметров можно остановить."
   ]
  },
  {
   "cell_type": "markdown",
   "metadata": {},
   "source": [
    "## Подбор параметров для KNNeighbors"
   ]
  },
  {
   "cell_type": "markdown",
   "metadata": {},
   "source": [
    "Здесь для одного параметра можно сразу воспользоваться GridSearchCV"
   ]
  },
  {
   "cell_type": "code",
   "execution_count": 24,
   "metadata": {
    "ExecuteTime": {
     "end_time": "2020-08-21T14:21:16.106090Z",
     "start_time": "2020-08-21T14:21:16.103089Z"
    }
   },
   "outputs": [],
   "source": [
    "knn_params = {'classifier__n_neighbors': np.arange(2,201,1)}"
   ]
  },
  {
   "cell_type": "code",
   "execution_count": 30,
   "metadata": {
    "ExecuteTime": {
     "end_time": "2020-08-21T14:23:26.648667Z",
     "start_time": "2020-08-21T14:23:26.645666Z"
    }
   },
   "outputs": [],
   "source": [
    "knn_search = GridSearchCV(estimator = knn_pipeline, \n",
    "                        param_grid = knn_params,\n",
    "                        scoring='accuracy',\n",
    "                        n_jobs=4,\n",
    "                        cv=5, verbose=1)"
   ]
  },
  {
   "cell_type": "code",
   "execution_count": 31,
   "metadata": {
    "ExecuteTime": {
     "end_time": "2020-08-21T14:24:51.576951Z",
     "start_time": "2020-08-21T14:23:27.787811Z"
    }
   },
   "outputs": [
    {
     "name": "stdout",
     "output_type": "stream",
     "text": [
      "Fitting 5 folds for each of 199 candidates, totalling 995 fits\n"
     ]
    },
    {
     "name": "stderr",
     "output_type": "stream",
     "text": [
      "[Parallel(n_jobs=4)]: Using backend LokyBackend with 4 concurrent workers.\n",
      "[Parallel(n_jobs=4)]: Done  42 tasks      | elapsed:    3.5s\n",
      "[Parallel(n_jobs=4)]: Done 192 tasks      | elapsed:   15.8s\n",
      "[Parallel(n_jobs=4)]: Done 442 tasks      | elapsed:   36.6s\n",
      "[Parallel(n_jobs=4)]: Done 792 tasks      | elapsed:  1.1min\n",
      "[Parallel(n_jobs=4)]: Done 995 out of 995 | elapsed:  1.4min finished\n"
     ]
    },
    {
     "data": {
      "text/plain": [
       "GridSearchCV(cv=5, error_score=nan,\n",
       "             estimator=Pipeline(memory=None,\n",
       "                                steps=[('sentence',\n",
       "                                        Pipeline(memory=None,\n",
       "                                                 steps=[('vectorizer',\n",
       "                                                         StemmedCountVectorizer(analyzer='word',\n",
       "                                                                                binary=False,\n",
       "                                                                                decode_error='strict',\n",
       "                                                                                dtype=<class 'numpy.int64'>,\n",
       "                                                                                encoding='utf-8',\n",
       "                                                                                input='content',\n",
       "                                                                                lowercase=True,\n",
       "                                                                                max_df=0.9,\n",
       "                                                                                max_features=None,\n",
       "                                                                                min_df=3,\n",
       "                                                                                ngram_range=(1,\n",
       "                                                                                             1),\n",
       "                                                                                preprocessor=None,\n",
       "                                                                                s...\n",
       "       132, 133, 134, 135, 136, 137, 138, 139, 140, 141, 142, 143, 144,\n",
       "       145, 146, 147, 148, 149, 150, 151, 152, 153, 154, 155, 156, 157,\n",
       "       158, 159, 160, 161, 162, 163, 164, 165, 166, 167, 168, 169, 170,\n",
       "       171, 172, 173, 174, 175, 176, 177, 178, 179, 180, 181, 182, 183,\n",
       "       184, 185, 186, 187, 188, 189, 190, 191, 192, 193, 194, 195, 196,\n",
       "       197, 198, 199, 200])},\n",
       "             pre_dispatch='2*n_jobs', refit=True, return_train_score=False,\n",
       "             scoring='accuracy', verbose=1)"
      ]
     },
     "execution_count": 31,
     "metadata": {},
     "output_type": "execute_result"
    }
   ],
   "source": [
    "knn_search.fit(train_data, train_labels)"
   ]
  },
  {
   "cell_type": "code",
   "execution_count": 32,
   "metadata": {
    "ExecuteTime": {
     "end_time": "2020-08-21T14:25:54.605955Z",
     "start_time": "2020-08-21T14:25:54.601954Z"
    }
   },
   "outputs": [
    {
     "data": {
      "text/plain": [
       "({'classifier__n_neighbors': 56}, 0.7466666666666667)"
      ]
     },
     "execution_count": 32,
     "metadata": {},
     "output_type": "execute_result"
    }
   ],
   "source": [
    "knn_search.best_params_, knn_search.best_score_"
   ]
  },
  {
   "cell_type": "markdown",
   "metadata": {},
   "source": [
    "## Обучение моделей и оценка качества"
   ]
  },
  {
   "cell_type": "markdown",
   "metadata": {
    "ExecuteTime": {
     "end_time": "2020-08-21T14:32:55.388387Z",
     "start_time": "2020-08-21T14:30:40.536Z"
    }
   },
   "source": [
    "Обновим параметры моделей, затем обучим их, и сделаем предсказания."
   ]
  },
  {
   "cell_type": "code",
   "execution_count": 54,
   "metadata": {
    "ExecuteTime": {
     "end_time": "2020-08-21T14:50:34.690402Z",
     "start_time": "2020-08-21T14:50:34.684401Z"
    }
   },
   "outputs": [],
   "source": [
    "forest_pipeline = Pipeline([('sentence',sentence_pipeline),\n",
    "                            ('classifier', RandomForestClassifier(n_estimators=180,\n",
    "                                                                  max_depth=48,\n",
    "                                                                  random_state=random_seed))])"
   ]
  },
  {
   "cell_type": "code",
   "execution_count": 55,
   "metadata": {
    "ExecuteTime": {
     "end_time": "2020-08-21T14:51:23.399087Z",
     "start_time": "2020-08-21T14:51:23.395586Z"
    }
   },
   "outputs": [],
   "source": [
    "knn_pipeline = Pipeline([('sentence',sentence_pipeline),\n",
    "                         ('classifier', KNeighborsClassifier(n_neighbors=56))])"
   ]
  },
  {
   "cell_type": "code",
   "execution_count": 56,
   "metadata": {
    "ExecuteTime": {
     "end_time": "2020-08-21T14:51:36.206713Z",
     "start_time": "2020-08-21T14:51:29.224827Z"
    }
   },
   "outputs": [
    {
     "name": "stdout",
     "output_type": "stream",
     "text": [
      "876 ms ± 35.5 ms per loop (mean ± std. dev. of 7 runs, 1 loop each)\n"
     ]
    }
   ],
   "source": [
    "%%timeit\n",
    "forest_pipeline.fit(train_data, train_labels)"
   ]
  },
  {
   "cell_type": "code",
   "execution_count": 57,
   "metadata": {
    "ExecuteTime": {
     "end_time": "2020-08-21T14:51:47.319624Z",
     "start_time": "2020-08-21T14:51:45.316370Z"
    }
   },
   "outputs": [
    {
     "name": "stdout",
     "output_type": "stream",
     "text": [
      "251 ms ± 19.8 ms per loop (mean ± std. dev. of 7 runs, 1 loop each)\n"
     ]
    }
   ],
   "source": [
    "%%timeit\n",
    "knn_pipeline.fit(train_data, train_labels)"
   ]
  },
  {
   "cell_type": "code",
   "execution_count": 58,
   "metadata": {
    "ExecuteTime": {
     "end_time": "2020-08-21T14:51:50.821569Z",
     "start_time": "2020-08-21T14:51:50.659048Z"
    }
   },
   "outputs": [],
   "source": [
    "forest_res = forest_pipeline.predict(test_data)"
   ]
  },
  {
   "cell_type": "code",
   "execution_count": 59,
   "metadata": {
    "ExecuteTime": {
     "end_time": "2020-08-21T14:51:52.617797Z",
     "start_time": "2020-08-21T14:51:52.426773Z"
    }
   },
   "outputs": [],
   "source": [
    "knn_res = knn_pipeline.predict(test_data)"
   ]
  },
  {
   "cell_type": "code",
   "execution_count": 60,
   "metadata": {
    "ExecuteTime": {
     "end_time": "2020-08-21T14:51:54.243003Z",
     "start_time": "2020-08-21T14:51:54.235503Z"
    }
   },
   "outputs": [
    {
     "name": "stdout",
     "output_type": "stream",
     "text": [
      "Accuracy для RandomForestClassifier: 0.7855555555555556\n",
      "Accuracy для KNeighborsClassifier: 0.7422222222222222\n"
     ]
    }
   ],
   "source": [
    "print(f'Accuracy для RandomForestClassifier: {accuracy_score(forest_res, test_labels)}')\n",
    "print(f'Accuracy для KNeighborsClassifier: {accuracy_score(knn_res, test_labels)}')"
   ]
  },
  {
   "cell_type": "markdown",
   "metadata": {
    "ExecuteTime": {
     "end_time": "2020-08-21T14:55:17.787350Z",
     "start_time": "2020-08-21T14:55:17.783850Z"
    }
   },
   "source": [
    "Для интереса построим матрицы ошибок"
   ]
  },
  {
   "cell_type": "code",
   "execution_count": 121,
   "metadata": {
    "ExecuteTime": {
     "end_time": "2020-08-21T15:20:11.501528Z",
     "start_time": "2020-08-21T15:20:11.491527Z"
    }
   },
   "outputs": [],
   "source": [
    "from sklearn.metrics import confusion_matrix\n",
    "labels = ['0', '1']\n",
    "forest_cm = confusion_matrix(test_labels, forest_res, labels)\n",
    "knn_cm = confusion_matrix(test_labels, knn_res, labels)"
   ]
  },
  {
   "cell_type": "code",
   "execution_count": 122,
   "metadata": {
    "ExecuteTime": {
     "end_time": "2020-08-21T15:20:13.184242Z",
     "start_time": "2020-08-21T15:20:13.178741Z"
    }
   },
   "outputs": [],
   "source": [
    "forest_cm_df = pd.DataFrame.from_records(forest_cm, columns=labels)\n",
    "knn_cm_df = pd.DataFrame.from_records(knn_cm, columns=labels)"
   ]
  },
  {
   "cell_type": "code",
   "execution_count": 129,
   "metadata": {
    "ExecuteTime": {
     "end_time": "2020-08-21T15:22:56.462475Z",
     "start_time": "2020-08-21T15:22:56.028920Z"
    }
   },
   "outputs": [
    {
     "data": {
      "image/png": "[encoded data removed]",
      "text/plain": [
       "<Figure size 1440x720 with 4 Axes>"
      ]
     },
     "metadata": {},
     "output_type": "display_data"
    }
   ],
   "source": [
    "fig, ax = plt.subplots(1,2,sharey=True, figsize=(20, 10))\n",
    "sns.heatmap(forest_cm_df, annot=True, fmt='', cmap='Blues', ax=ax[0])\n",
    "sns.heatmap(knn_cm_df, annot=True, fmt='', cmap='Blues', ax=ax[1])\n",
    "ax[0].set_ylim([0,2])\n",
    "ax[0].set_xlim([2,0])\n",
    "ax[1].set_xlim([2,0])\n",
    "ax[0].title.set_text('Матрица ошибок для случайного леса')\n",
    "ax[1].title.set_text('Матрица ошибок для kNN модели')"
   ]
  },
  {
   "cell_type": "markdown",
   "metadata": {},
   "source": [
    "# Выводы"
   ]
  },
  {
   "cell_type": "code",
   "execution_count": 130,
   "metadata": {
    "ExecuteTime": {
     "end_time": "2020-08-21T15:24:04.802153Z",
     "start_time": "2020-08-21T15:24:04.795152Z"
    }
   },
   "outputs": [
    {
     "name": "stdout",
     "output_type": "stream",
     "text": [
      "Accuracy для RandomForestClassifier: 0.7855555555555556\n",
      "Accuracy для KNeighborsClassifier: 0.7422222222222222\n"
     ]
    }
   ],
   "source": [
    "print(f'Accuracy для RandomForestClassifier: {accuracy_score(forest_res, test_labels)}')\n",
    "print(f'Accuracy для KNeighborsClassifier: {accuracy_score(knn_res, test_labels)}')"
   ]
  },
  {
   "cell_type": "markdown",
   "metadata": {},
   "source": [
    "Для выбранной метрики Accuracy на отложенной выборке случайный лес показывает результат немного лучшне, чем модель на k ближайших соседей."
   ]
  },
  {
   "cell_type": "markdown",
   "metadata": {},
   "source": [
    "# Бонус"
   ]
  },
  {
   "cell_type": "markdown",
   "metadata": {
    "ExecuteTime": {
     "end_time": "2020-08-21T15:29:16.698759Z",
     "start_time": "2020-08-21T15:29:16.694759Z"
    }
   },
   "source": [
    "Попробуем объединить это все в ансамбль, и посмотреть на результаты."
   ]
  },
  {
   "cell_type": "code",
   "execution_count": 139,
   "metadata": {
    "ExecuteTime": {
     "end_time": "2020-08-21T15:28:40.292636Z",
     "start_time": "2020-08-21T15:28:40.288636Z"
    }
   },
   "outputs": [],
   "source": [
    "from sklearn.ensemble import VotingClassifier\n",
    "VCL = VotingClassifier(estimators=[('forest',forest_pipeline),('knn',knn_pipeline)],\n",
    "                       voting='soft')"
   ]
  },
  {
   "cell_type": "code",
   "execution_count": 134,
   "metadata": {
    "ExecuteTime": {
     "end_time": "2020-08-21T15:27:36.977596Z",
     "start_time": "2020-08-21T15:27:31.592412Z"
    }
   },
   "outputs": [
    {
     "name": "stdout",
     "output_type": "stream",
     "text": [
      "0.7571428571428571\n"
     ]
    }
   ],
   "source": [
    "vote_score_test = np.mean(cross_val_score(\n",
    "    VCL, \n",
    "    train_data, \n",
    "    train_labels, \n",
    "    scoring='accuracy', \n",
    "    cv=5))\n",
    "print(vote_score_test)"
   ]
  },
  {
   "cell_type": "code",
   "execution_count": 135,
   "metadata": {
    "ExecuteTime": {
     "end_time": "2020-08-21T15:27:53.674216Z",
     "start_time": "2020-08-21T15:27:52.577577Z"
    }
   },
   "outputs": [
    {
     "data": {
      "text/plain": [
       "VotingClassifier(estimators=[('forest',\n",
       "                              Pipeline(memory=None,\n",
       "                                       steps=[('sentence',\n",
       "                                               Pipeline(memory=None,\n",
       "                                                        steps=[('vectorizer',\n",
       "                                                                StemmedCountVectorizer(analyzer='word',\n",
       "                                                                                       binary=False,\n",
       "                                                                                       decode_error='strict',\n",
       "                                                                                       dtype=<class 'numpy.int64'>,\n",
       "                                                                                       encoding='utf-8',\n",
       "                                                                                       input='content',\n",
       "                                                                                       lowercase=True,\n",
       "                                                                                       max_df=0.9,\n",
       "                                                                                       max_features=None,\n",
       "                                                                                       min_df=3,\n",
       "                                                                                       ngram_range=(1,\n",
       "                                                                                                    1),\n",
       "                                                                                       preprocessor=None,\n",
       "                                                                                       stop_w...\n",
       "                                                                                       vocabulary=None)),\n",
       "                                                               ('transformer',\n",
       "                                                                TfidfTransformer(norm='l2',\n",
       "                                                                                 smooth_idf=True,\n",
       "                                                                                 sublinear_tf=False,\n",
       "                                                                                 use_idf=True))],\n",
       "                                                        verbose=False)),\n",
       "                                              ('classifier',\n",
       "                                               KNeighborsClassifier(algorithm='auto',\n",
       "                                                                    leaf_size=30,\n",
       "                                                                    metric='minkowski',\n",
       "                                                                    metric_params=None,\n",
       "                                                                    n_jobs=None,\n",
       "                                                                    n_neighbors=56,\n",
       "                                                                    p=2,\n",
       "                                                                    weights='uniform'))],\n",
       "                                       verbose=False))],\n",
       "                 flatten_transform=True, n_jobs=None, voting='soft',\n",
       "                 weights=None)"
      ]
     },
     "execution_count": 135,
     "metadata": {},
     "output_type": "execute_result"
    }
   ],
   "source": [
    "VCL.fit(train_data, train_labels)"
   ]
  },
  {
   "cell_type": "code",
   "execution_count": 137,
   "metadata": {
    "ExecuteTime": {
     "end_time": "2020-08-21T15:28:11.617995Z",
     "start_time": "2020-08-21T15:28:11.327958Z"
    }
   },
   "outputs": [],
   "source": [
    "VCL_res = VCL.predict(test_data)"
   ]
  },
  {
   "cell_type": "code",
   "execution_count": 141,
   "metadata": {
    "ExecuteTime": {
     "end_time": "2020-08-21T15:29:46.415533Z",
     "start_time": "2020-08-21T15:29:46.406032Z"
    }
   },
   "outputs": [
    {
     "name": "stdout",
     "output_type": "stream",
     "text": [
      "Accuracy для VotingClassifier: 0.7922222222222223\n"
     ]
    }
   ],
   "source": [
    "print(f'Accuracy для VotingClassifier: {accuracy_score(VCL_res, test_labels)}')"
   ]
  },
  {
   "cell_type": "code",
   "execution_count": 142,
   "metadata": {
    "ExecuteTime": {
     "end_time": "2020-08-21T15:30:44.285381Z",
     "start_time": "2020-08-21T15:30:44.276380Z"
    }
   },
   "outputs": [],
   "source": [
    "VCL_cm = confusion_matrix(test_labels, VCL_res, labels)\n",
    "VCL_cm_df = pd.DataFrame.from_records(VCL_cm, columns=labels)"
   ]
  },
  {
   "cell_type": "code",
   "execution_count": 149,
   "metadata": {
    "ExecuteTime": {
     "end_time": "2020-08-21T15:32:52.265633Z",
     "start_time": "2020-08-21T15:32:52.029103Z"
    }
   },
   "outputs": [
    {
     "data": {
      "image/png": "[encoded data removed]",
      "text/plain": [
       "<Figure size 864x720 with 2 Axes>"
      ]
     },
     "metadata": {},
     "output_type": "display_data"
    }
   ],
   "source": [
    "fig, ax = plt.subplots(figsize=(12, 10))\n",
    "sns.heatmap(VCL_cm_df, annot=True, fmt='', cmap='Blues')\n",
    "ax.set_ylim([0,2])\n",
    "ax.set_xlim([2,0])\n",
    "ax.title.set_text('Матрица ошибок для ансамбля из случайного леса и kNN-модели')"
   ]
  },
  {
   "cell_type": "markdown",
   "metadata": {},
   "source": [
    "**Финальный вывод:** Объединение двух моделей при минимальном подборе основных параметров дает accuracy=0,79, что в целом хорошо, если считать это baseline-моделью."
   ]
  },
  {
   "cell_type": "code",
   "execution_count": null,
   "metadata": {},
   "outputs": [],
   "source": []
  }
 ],
 "metadata": {
  "kernelspec": {
   "display_name": "Python 3",
   "language": "python",
   "name": "python3"
  },
  "language_info": {
   "codemirror_mode": {
    "name": "ipython",
    "version": 3
   },
   "file_extension": ".py",
   "mimetype": "text/x-python",
   "name": "python",
   "nbconvert_exporter": "python",
   "pygments_lexer": "ipython3",
   "version": "3.7.3"
  },
  "toc": {
   "base_numbering": 1,
   "nav_menu": {},
   "number_sections": true,
   "sideBar": true,
   "skip_h1_title": false,
   "title_cell": "Table of Contents",
   "title_sidebar": "Contents",
   "toc_cell": false,
   "toc_position": {},
   "toc_section_display": true,
   "toc_window_display": false
  },
  "varInspector": {
   "cols": {
    "lenName": 16,
    "lenType": 16,
    "lenVar": 40
   },
   "kernels_config": {
    "python": {
     "delete_cmd_postfix": "",
     "delete_cmd_prefix": "del ",
     "library": "var_list.py",
     "varRefreshCmd": "print(var_dic_list())"
    },
    "r": {
     "delete_cmd_postfix": ") ",
     "delete_cmd_prefix": "rm(",
     "library": "var_list.r",
     "varRefreshCmd": "cat(var_dic_list()) "
    }
   },
   "types_to_exclude": [
    "module",
    "function",
    "builtin_function_or_method",
    "instance",
    "_Feature"
   ],
   "window_display": false
  }
 },
 "nbformat": 4,
 "nbformat_minor": 2
}
